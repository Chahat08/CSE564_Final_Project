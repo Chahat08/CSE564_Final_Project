{
 "cells": [
  {
   "cell_type": "code",
   "execution_count": 1,
   "metadata": {},
   "outputs": [],
   "source": [
    "from opencage.geocoder import OpenCageGeocode\n",
    "from opencage.geocoder import InvalidInputError, RateLimitExceededError, UnknownError\n",
    "import pandas as pd\n",
    "from pprint import pprint"
   ]
  },
  {
   "cell_type": "code",
   "execution_count": 6,
   "metadata": {},
   "outputs": [],
   "source": [
    "# key = '44064484207b4b37b2427a3435b40b07'\n",
    "# key = '26663d3211884ff0ac57447c975865f0'\n",
    "# key = '497ad12427ef409ab854af53608282b4'\n",
    "key = '2c67f66fd0cd44cdacf36b54154b9cdf'\n",
    "geocoder = OpenCageGeocode(key)"
   ]
  },
  {
   "cell_type": "code",
   "execution_count": 3,
   "metadata": {},
   "outputs": [],
   "source": [
    "df = pd.read_csv(\"data/eclipse_data_enriched_5000_years.csv\")"
   ]
  },
  {
   "cell_type": "code",
   "execution_count": 43,
   "metadata": {},
   "outputs": [],
   "source": [
    "def reverse_geocode(row):  \n",
    "    latitude = row['Eclipse Latitude']\n",
    "    longitude = row['Eclipse Longitude'] \n",
    "    try:\n",
    "        results = geocoder.reverse_geocode(latitude, longitude)\n",
    "        if results and len(results):\n",
    "            return get_location(results)\n",
    "    except RateLimitExceededError as ex:\n",
    "        return str(ex)\n",
    "    except InvalidInputError as ex:\n",
    "        return str(ex)\n",
    "    \n",
    "    return None, None, None\n",
    "\n",
    "def get_location(results):\n",
    "    location = results[0]['components']\n",
    "\n",
    "    country_name = location.get('country', None)\n",
    "    alpha_2_code = location.get('ISO_3166-1_alpha-2', None)\n",
    "    alpha_3_code = location.get('ISO_3166-1_alpha-3', None)\n",
    "\n",
    "    return country_name, alpha_2_code, alpha_3_code \n",
    "\n",
    "def update_csv(df, filename, batch_size=100):\n",
    "    for i in range(7252, 7252+2500, batch_size):\n",
    "        if(i % 50) == 0:\n",
    "            print(i)\n",
    "        batch = df[i:i+batch_size]\n",
    "        # print(zip(*batch.apply(reverse_geocode, axis=1)))\n",
    "        batch['Country'], batch['Alpha2'], batch['Alpha3'] = zip(*batch.apply(reverse_geocode, axis=1))\n",
    "        # if 'Country' in df.columns:\n",
    "        #     df.drop(columns=['Country'], inplace=True)\n",
    "        batch.to_csv(filename, mode='a', header=not i, index=False)"
   ]
  },
  {
   "cell_type": "code",
   "execution_count": 8,
   "metadata": {},
   "outputs": [],
   "source": [
    "# lat = 44.8303087\n",
    "# long = -0.5761911\n",
    "\n",
    "# c, a2, a3 = reverse_geocode(lat, long)"
   ]
  },
  {
   "cell_type": "code",
   "execution_count": 11,
   "metadata": {},
   "outputs": [
    {
     "data": {
      "text/plain": [
       "('France', 'FR', 'FRA')"
      ]
     },
     "execution_count": 11,
     "metadata": {},
     "output_type": "execute_result"
    }
   ],
   "source": [
    "# c, a2, a3"
   ]
  },
  {
   "cell_type": "code",
   "execution_count": null,
   "metadata": {},
   "outputs": [],
   "source": [
    "update_csv(df, 'data/geo_coded_data.csv', batch_size=100)"
   ]
  },
  {
   "cell_type": "code",
   "execution_count": 2,
   "metadata": {},
   "outputs": [],
   "source": [
    "df_with_country = pd.read_csv(\"data/geo_coded_data.csv\")"
   ]
  },
  {
   "cell_type": "code",
   "execution_count": 15,
   "metadata": {},
   "outputs": [],
   "source": [
    "df_with_country.to_csv(\"data/geo_coded_data.csv\", index = False)"
   ]
  },
  {
   "cell_type": "markdown",
   "metadata": {},
   "source": [
    "CREATE JSON WITH COUNTRY NAME TO ALPHA3 CODE MAPPING"
   ]
  },
  {
   "cell_type": "code",
   "execution_count": 49,
   "metadata": {},
   "outputs": [],
   "source": [
    "import json\n",
    "\n",
    "# Load the JSON data\n",
    "with open('data/world.geojson', 'r') as f:\n",
    "    data = json.load(f)\n",
    "\n",
    "# Create a dictionary to store the mapping\n",
    "country_mapping = {}\n",
    "\n",
    "# Iterate through the features\n",
    "for feature in data['features']:\n",
    "    country_name = feature['properties']['name']\n",
    "    country_id = feature['id']\n",
    "    country_mapping[country_name] = country_id\n",
    "\n",
    "# Write the mapping to a new JSON file\n",
    "with open('data/alpha3Codes.json', 'w') as f:\n",
    "    json.dump(country_mapping, f, indent=4)\n"
   ]
  },
  {
   "cell_type": "markdown",
   "metadata": {},
   "source": [
    "ADDING CODES TO DATA"
   ]
  },
  {
   "cell_type": "code",
   "execution_count": 50,
   "metadata": {},
   "outputs": [],
   "source": [
    "data = pd.read_csv(\"data/geo_coded_data.csv\")"
   ]
  },
  {
   "cell_type": "code",
   "execution_count": 54,
   "metadata": {},
   "outputs": [],
   "source": [
    "import json\n",
    "\n",
    "# Read the JSON file\n",
    "with open(\"data/alpha3Codes.json\", \"r\") as f:\n",
    "    country_mapping = json.load(f)\n",
    "    \n",
    "\n",
    "# Function to get Alpha3Code\n",
    "def get_alpha3code(country_name):\n",
    "    alpha3code = country_mapping.get(country_name, \"NOT FOUND\")\n",
    "    if alpha3code == \"NOT FOUND\":\n",
    "        print(f\"Country not found: {country_name}\")\n",
    "    return alpha3code"
   ]
  },
  {
   "cell_type": "code",
   "execution_count": null,
   "metadata": {},
   "outputs": [],
   "source": [
    "# Add Alpha3Code column\n",
    "data[\"Alpha3Code\"] = data[\"Country\"].apply(lambda x: get_alpha3code(x) if pd.notnull(x) else None)"
   ]
  },
  {
   "cell_type": "markdown",
   "metadata": {},
   "source": [
    "CLEAN GEOCODED DATA"
   ]
  },
  {
   "cell_type": "code",
   "execution_count": 55,
   "metadata": {},
   "outputs": [],
   "source": [
    "data = pd.read_csv(\"data/geo_coded_data.csv\")"
   ]
  },
  {
   "cell_type": "code",
   "execution_count": 48,
   "metadata": {},
   "outputs": [],
   "source": [
    "data = data[:8961]"
   ]
  },
  {
   "cell_type": "code",
   "execution_count": 56,
   "metadata": {},
   "outputs": [],
   "source": [
    "data = data[data['Country'].notna() & data['Alpha3'].notna()]"
   ]
  },
  {
   "cell_type": "code",
   "execution_count": 57,
   "metadata": {},
   "outputs": [
    {
     "data": {
      "text/plain": [
       "575"
      ]
     },
     "execution_count": 57,
     "metadata": {},
     "output_type": "execute_result"
    }
   ],
   "source": [
    "len(data)"
   ]
  },
  {
   "cell_type": "code",
   "execution_count": 58,
   "metadata": {},
   "outputs": [],
   "source": [
    "data.to_csv(\"data/geo_coded_data_clean.csv\", index = False)"
   ]
  },
  {
   "cell_type": "code",
   "execution_count": null,
   "metadata": {},
   "outputs": [],
   "source": []
  },
  {
   "cell_type": "code",
   "execution_count": null,
   "metadata": {},
   "outputs": [],
   "source": []
  }
 ],
 "metadata": {
  "kernelspec": {
   "display_name": "Python 3",
   "language": "python",
   "name": "python3"
  },
  "language_info": {
   "codemirror_mode": {
    "name": "ipython",
    "version": 3
   },
   "file_extension": ".py",
   "mimetype": "text/x-python",
   "name": "python",
   "nbconvert_exporter": "python",
   "pygments_lexer": "ipython3",
   "version": "3.11.5"
  }
 },
 "nbformat": 4,
 "nbformat_minor": 2
}
